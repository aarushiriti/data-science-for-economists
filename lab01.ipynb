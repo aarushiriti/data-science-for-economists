{
 "cells": [
  {
   "cell_type": "code",
   "execution_count": 1,
   "id": "894c7b4a",
   "metadata": {
    "deletable": false,
    "editable": false
   },
   "outputs": [],
   "source": [
    "# Initialize Otter\n",
    "import otter\n",
    "grader = otter.Notebook(\"lab01.ipynb\")"
   ]
  },
  {
   "cell_type": "code",
   "execution_count": 2,
   "id": "08da1ca7",
   "metadata": {
    "editable": true,
    "slideshow": {
     "slide_type": ""
    },
    "tags": []
   },
   "outputs": [],
   "source": [
    "import pandas as pd\n",
    "import numpy as np\n",
    "from datetime import date\n",
    "import matplotlib.pyplot as plt\n",
    "%matplotlib inline"
   ]
  },
  {
   "cell_type": "markdown",
   "id": "f33e08f3-4338-4f2f-a91d-cf253efc5e3f",
   "metadata": {},
   "source": [
    "# Lab 1: Using Pandas"
   ]
  },
  {
   "cell_type": "markdown",
   "id": "155f898f",
   "metadata": {
    "editable": true,
    "slideshow": {
     "slide_type": ""
    },
    "tags": []
   },
   "source": [
    "*This lab is heavily inspired by [Data 198 Module 2](https://github.com/ds-modules/DATA-198-SP21/blob/main/module_2/module2.ipynb) and [Data 88E Lab 9](https://github.com/data-88e/fa22-dev/blob/main/lab/lab09/lab09.ipynb).*\n",
    "\n",
    "The `pandas` module is a powerful library for manipulating and analyzing data. In this lab, you will use what you learned in lecture, as well as the `pandas` documentation, to manipulate and analyze some example datasets."
   ]
  },
  {
   "cell_type": "markdown",
   "id": "b4064518",
   "metadata": {
    "editable": true,
    "slideshow": {
     "slide_type": ""
    },
    "tags": []
   },
   "source": [
    "### Learning Objectives\n",
    "\n",
    "By the end of this lab, you should be able to work with datasets with basic Pandas methods, including\n",
    "- Read a `.csv` file into a `pandas` dataframe\n",
    "- Select certain columns from a dataframe\n",
    "- Filter a dataframe\n",
    "- Use the `pandas` documentation to complete a certain data manipulation task (e.g. a join)"
   ]
  },
  {
   "cell_type": "markdown",
   "id": "dd44882b",
   "metadata": {
    "editable": true,
    "slideshow": {
     "slide_type": ""
    },
    "tags": []
   },
   "source": [
    "----\n",
    "\n",
    "## Price Data over Time"
   ]
  },
  {
   "cell_type": "markdown",
   "id": "80ea8f2d",
   "metadata": {
    "editable": true,
    "slideshow": {
     "slide_type": ""
    },
    "tags": []
   },
   "source": [
    "We begin by importing an example dataset that tells us the price of some good over time."
   ]
  },
  {
   "cell_type": "markdown",
   "id": "c19e5588",
   "metadata": {
    "deletable": false,
    "editable": false
   },
   "source": [
    "**Question 1.1:** Import the data from the `prices.csv` file into a DataFrame named `prices_raw`."
   ]
  },
  {
   "cell_type": "code",
   "execution_count": 13,
   "id": "79cf8354-de8c-4820-943e-839d0645cebc",
   "metadata": {},
   "outputs": [
    {
     "name": "stdout",
     "output_type": "stream",
     "text": [
      "lab01_2024_01_24T05_55_54_557271.zip  lab01.ipynb  prices.csv\n",
      "lab01-Copy1.ipynb\t\t      lab01.pdf\n"
     ]
    }
   ],
   "source": [
    "!ls"
   ]
  },
  {
   "cell_type": "code",
   "execution_count": 14,
   "id": "70606507",
   "metadata": {
    "tags": []
   },
   "outputs": [
    {
     "data": {
      "text/html": [
       "<div>\n",
       "<style scoped>\n",
       "    .dataframe tbody tr th:only-of-type {\n",
       "        vertical-align: middle;\n",
       "    }\n",
       "\n",
       "    .dataframe tbody tr th {\n",
       "        vertical-align: top;\n",
       "    }\n",
       "\n",
       "    .dataframe thead th {\n",
       "        text-align: right;\n",
       "    }\n",
       "</style>\n",
       "<table border=\"1\" class=\"dataframe\">\n",
       "  <thead>\n",
       "    <tr style=\"text-align: right;\">\n",
       "      <th></th>\n",
       "      <th>year</th>\n",
       "      <th>month</th>\n",
       "      <th>price</th>\n",
       "    </tr>\n",
       "  </thead>\n",
       "  <tbody>\n",
       "    <tr>\n",
       "      <th>0</th>\n",
       "      <td>2003.0</td>\n",
       "      <td>1.0</td>\n",
       "      <td>100.52</td>\n",
       "    </tr>\n",
       "    <tr>\n",
       "      <th>1</th>\n",
       "      <td>2003.0</td>\n",
       "      <td>2.0</td>\n",
       "      <td>100.71</td>\n",
       "    </tr>\n",
       "    <tr>\n",
       "      <th>2</th>\n",
       "      <td>2003.0</td>\n",
       "      <td>3.0</td>\n",
       "      <td>100.95</td>\n",
       "    </tr>\n",
       "    <tr>\n",
       "      <th>3</th>\n",
       "      <td>2003.0</td>\n",
       "      <td>4.0</td>\n",
       "      <td>101.29</td>\n",
       "    </tr>\n",
       "    <tr>\n",
       "      <th>4</th>\n",
       "      <td>2003.0</td>\n",
       "      <td>5.0</td>\n",
       "      <td>101.38</td>\n",
       "    </tr>\n",
       "    <tr>\n",
       "      <th>...</th>\n",
       "      <td>...</td>\n",
       "      <td>...</td>\n",
       "      <td>...</td>\n",
       "    </tr>\n",
       "    <tr>\n",
       "      <th>103</th>\n",
       "      <td>2011.0</td>\n",
       "      <td>8.0</td>\n",
       "      <td>119.96</td>\n",
       "    </tr>\n",
       "    <tr>\n",
       "      <th>104</th>\n",
       "      <td>2011.0</td>\n",
       "      <td>9.0</td>\n",
       "      <td>120.06</td>\n",
       "    </tr>\n",
       "    <tr>\n",
       "      <th>105</th>\n",
       "      <td>2011.0</td>\n",
       "      <td>10.0</td>\n",
       "      <td>120.27</td>\n",
       "    </tr>\n",
       "    <tr>\n",
       "      <th>106</th>\n",
       "      <td>2011.0</td>\n",
       "      <td>11.0</td>\n",
       "      <td>120.39</td>\n",
       "    </tr>\n",
       "    <tr>\n",
       "      <th>107</th>\n",
       "      <td>2011.0</td>\n",
       "      <td>12.0</td>\n",
       "      <td>120.53</td>\n",
       "    </tr>\n",
       "  </tbody>\n",
       "</table>\n",
       "<p>108 rows × 3 columns</p>\n",
       "</div>"
      ],
      "text/plain": [
       "       year  month   price\n",
       "0    2003.0    1.0  100.52\n",
       "1    2003.0    2.0  100.71\n",
       "2    2003.0    3.0  100.95\n",
       "3    2003.0    4.0  101.29\n",
       "4    2003.0    5.0  101.38\n",
       "..      ...    ...     ...\n",
       "103  2011.0    8.0  119.96\n",
       "104  2011.0    9.0  120.06\n",
       "105  2011.0   10.0  120.27\n",
       "106  2011.0   11.0  120.39\n",
       "107  2011.0   12.0  120.53\n",
       "\n",
       "[108 rows x 3 columns]"
      ]
     },
     "execution_count": 14,
     "metadata": {},
     "output_type": "execute_result"
    }
   ],
   "source": [
    "prices_raw = pd.read_csv('prices.csv')\n",
    "prices_raw"
   ]
  },
  {
   "cell_type": "code",
   "execution_count": 15,
   "id": "75553abe",
   "metadata": {
    "deletable": false,
    "editable": false
   },
   "outputs": [
    {
     "data": {
      "text/html": [
       "<p><strong><pre style='display: inline;'>q1_1</pre></strong> passed! 🌈</p>"
      ],
      "text/plain": [
       "q1_1 results: All test cases passed!"
      ]
     },
     "execution_count": 15,
     "metadata": {},
     "output_type": "execute_result"
    }
   ],
   "source": [
    "grader.check(\"q1_1\")"
   ]
  },
  {
   "cell_type": "markdown",
   "id": "88d63f02",
   "metadata": {},
   "source": [
    "First, we want to add a `date` row to this table that contains the date of each entry as a [Python date object](https://docs.python.org/3/library/datetime.html#datetime.date). Using Python date objects allows us to manipulate dates and times conveniently (for example, they make sorting by dates very easy). Below, we've defined a function that, given a row, tells us the date of that row based on its `year` and `month`:"
   ]
  },
  {
   "cell_type": "code",
   "execution_count": 10,
   "id": "60e44f70",
   "metadata": {},
   "outputs": [],
   "source": [
    "def date_of_row(row):\n",
    "    return date(int(row['year']), int(row['month']), 1)"
   ]
  },
  {
   "cell_type": "markdown",
   "id": "00079d17",
   "metadata": {},
   "source": [
    "As an example, let's see what this function returns when applied to the first row:"
   ]
  },
  {
   "cell_type": "code",
   "execution_count": 7,
   "id": "0860ae9b",
   "metadata": {},
   "outputs": [
    {
     "data": {
      "text/plain": [
       "datetime.date(2003, 1, 1)"
      ]
     },
     "execution_count": 7,
     "metadata": {},
     "output_type": "execute_result"
    }
   ],
   "source": [
    "date_of_row(prices_raw.iloc[0])"
   ]
  },
  {
   "cell_type": "markdown",
   "id": "23a3559c",
   "metadata": {},
   "source": [
    "This looks like what we're looking for. So, how do we apply it to every row in the table? \n",
    "\n",
    "Let's look into the `apply` function. Read the [documentation](https://pandas.pydata.org/docs/reference/api/pandas.DataFrame.apply.html)."
   ]
  },
  {
   "cell_type": "markdown",
   "id": "01ef1dfe",
   "metadata": {
    "deletable": false,
    "editable": false
   },
   "source": [
    "<!-- BEGIN QUESTION -->\n",
    "\n",
    "**Question 1.2:** What is the `func` argument in the documentation? What should we pass for the `func` argument in this case?"
   ]
  },
  {
   "cell_type": "markdown",
   "id": "b32c1839",
   "metadata": {},
   "source": [
    "The func argument is short form for \"function\" which specifies what kind of function to do to the proceeding argument. In the document, the func argument changes around in the different examples, but some include: 'np.sqrt' and 'np.sum'. In our case, we should date_of_row as the function. "
   ]
  },
  {
   "cell_type": "markdown",
   "id": "d382caa6",
   "metadata": {
    "deletable": false,
    "editable": false
   },
   "source": [
    "<!-- END QUESTION -->\n",
    "\n",
    "<!-- BEGIN QUESTION -->\n",
    "\n",
    "**Question 1.3:** What is the `axis` argument? What should we pass for the `axis` argument in this case?"
   ]
  },
  {
   "cell_type": "markdown",
   "id": "a707e159",
   "metadata": {},
   "source": [
    "The axis argument tells which part of the dataframe the function applies to: column (0 or 'index') or row (1 or 'columns'). In this case if we are trying to apply the function to every row in the table, then the axis is 1. "
   ]
  },
  {
   "cell_type": "markdown",
   "id": "fc1efcb1",
   "metadata": {
    "deletable": false,
    "editable": false
   },
   "source": [
    "<!-- END QUESTION -->\n",
    "\n",
    "**Question 1.4:** Now, construct a `date_column` using the `apply` function. "
   ]
  },
  {
   "cell_type": "code",
   "execution_count": 8,
   "id": "da357f1c",
   "metadata": {
    "tags": []
   },
   "outputs": [
    {
     "data": {
      "text/plain": [
       "0      2003-01-01\n",
       "1      2003-02-01\n",
       "2      2003-03-01\n",
       "3      2003-04-01\n",
       "4      2003-05-01\n",
       "          ...    \n",
       "103    2011-08-01\n",
       "104    2011-09-01\n",
       "105    2011-10-01\n",
       "106    2011-11-01\n",
       "107    2011-12-01\n",
       "Length: 108, dtype: object"
      ]
     },
     "execution_count": 8,
     "metadata": {},
     "output_type": "execute_result"
    }
   ],
   "source": [
    "date_column = prices_raw.apply((date_of_row),1)\n",
    "date_column"
   ]
  },
  {
   "cell_type": "code",
   "execution_count": 9,
   "id": "2fe51d15",
   "metadata": {
    "deletable": false,
    "editable": false
   },
   "outputs": [
    {
     "data": {
      "text/html": [
       "<p><strong><pre style='display: inline;'>q1_4</pre></strong> passed! 🚀</p>"
      ],
      "text/plain": [
       "q1_4 results: All test cases passed!"
      ]
     },
     "execution_count": 9,
     "metadata": {},
     "output_type": "execute_result"
    }
   ],
   "source": [
    "grader.check(\"q1_4\")"
   ]
  },
  {
   "cell_type": "markdown",
   "id": "32137e0f",
   "metadata": {
    "deletable": false,
    "editable": false
   },
   "source": [
    "**Question 1.5:** Now we want to add the dates as a new column to `prices_raw`. Construct `prices_raw_with_date`, a dataframe containing all of the columns of `prices_raw`, as well as a `date` column with the values from `date_column`."
   ]
  },
  {
   "cell_type": "code",
   "execution_count": 10,
   "id": "8fad1820",
   "metadata": {
    "tags": []
   },
   "outputs": [
    {
     "data": {
      "text/html": [
       "<div>\n",
       "<style scoped>\n",
       "    .dataframe tbody tr th:only-of-type {\n",
       "        vertical-align: middle;\n",
       "    }\n",
       "\n",
       "    .dataframe tbody tr th {\n",
       "        vertical-align: top;\n",
       "    }\n",
       "\n",
       "    .dataframe thead th {\n",
       "        text-align: right;\n",
       "    }\n",
       "</style>\n",
       "<table border=\"1\" class=\"dataframe\">\n",
       "  <thead>\n",
       "    <tr style=\"text-align: right;\">\n",
       "      <th></th>\n",
       "      <th>year</th>\n",
       "      <th>month</th>\n",
       "      <th>price</th>\n",
       "      <th>date</th>\n",
       "    </tr>\n",
       "  </thead>\n",
       "  <tbody>\n",
       "    <tr>\n",
       "      <th>0</th>\n",
       "      <td>2003.0</td>\n",
       "      <td>1.0</td>\n",
       "      <td>100.52</td>\n",
       "      <td>2003-01-01</td>\n",
       "    </tr>\n",
       "    <tr>\n",
       "      <th>1</th>\n",
       "      <td>2003.0</td>\n",
       "      <td>2.0</td>\n",
       "      <td>100.71</td>\n",
       "      <td>2003-02-01</td>\n",
       "    </tr>\n",
       "    <tr>\n",
       "      <th>2</th>\n",
       "      <td>2003.0</td>\n",
       "      <td>3.0</td>\n",
       "      <td>100.95</td>\n",
       "      <td>2003-03-01</td>\n",
       "    </tr>\n",
       "    <tr>\n",
       "      <th>3</th>\n",
       "      <td>2003.0</td>\n",
       "      <td>4.0</td>\n",
       "      <td>101.29</td>\n",
       "      <td>2003-04-01</td>\n",
       "    </tr>\n",
       "    <tr>\n",
       "      <th>4</th>\n",
       "      <td>2003.0</td>\n",
       "      <td>5.0</td>\n",
       "      <td>101.38</td>\n",
       "      <td>2003-05-01</td>\n",
       "    </tr>\n",
       "    <tr>\n",
       "      <th>...</th>\n",
       "      <td>...</td>\n",
       "      <td>...</td>\n",
       "      <td>...</td>\n",
       "      <td>...</td>\n",
       "    </tr>\n",
       "    <tr>\n",
       "      <th>103</th>\n",
       "      <td>2011.0</td>\n",
       "      <td>8.0</td>\n",
       "      <td>119.96</td>\n",
       "      <td>2011-08-01</td>\n",
       "    </tr>\n",
       "    <tr>\n",
       "      <th>104</th>\n",
       "      <td>2011.0</td>\n",
       "      <td>9.0</td>\n",
       "      <td>120.06</td>\n",
       "      <td>2011-09-01</td>\n",
       "    </tr>\n",
       "    <tr>\n",
       "      <th>105</th>\n",
       "      <td>2011.0</td>\n",
       "      <td>10.0</td>\n",
       "      <td>120.27</td>\n",
       "      <td>2011-10-01</td>\n",
       "    </tr>\n",
       "    <tr>\n",
       "      <th>106</th>\n",
       "      <td>2011.0</td>\n",
       "      <td>11.0</td>\n",
       "      <td>120.39</td>\n",
       "      <td>2011-11-01</td>\n",
       "    </tr>\n",
       "    <tr>\n",
       "      <th>107</th>\n",
       "      <td>2011.0</td>\n",
       "      <td>12.0</td>\n",
       "      <td>120.53</td>\n",
       "      <td>2011-12-01</td>\n",
       "    </tr>\n",
       "  </tbody>\n",
       "</table>\n",
       "<p>108 rows × 4 columns</p>\n",
       "</div>"
      ],
      "text/plain": [
       "       year  month   price        date\n",
       "0    2003.0    1.0  100.52  2003-01-01\n",
       "1    2003.0    2.0  100.71  2003-02-01\n",
       "2    2003.0    3.0  100.95  2003-03-01\n",
       "3    2003.0    4.0  101.29  2003-04-01\n",
       "4    2003.0    5.0  101.38  2003-05-01\n",
       "..      ...    ...     ...         ...\n",
       "103  2011.0    8.0  119.96  2011-08-01\n",
       "104  2011.0    9.0  120.06  2011-09-01\n",
       "105  2011.0   10.0  120.27  2011-10-01\n",
       "106  2011.0   11.0  120.39  2011-11-01\n",
       "107  2011.0   12.0  120.53  2011-12-01\n",
       "\n",
       "[108 rows x 4 columns]"
      ]
     },
     "execution_count": 10,
     "metadata": {},
     "output_type": "execute_result"
    }
   ],
   "source": [
    "prices_raw_with_date = prices_raw.copy()  # make a copy of prices_raw\n",
    "\n",
    "prices_raw_with_date['date']= date_column\n",
    "prices_raw_with_date"
   ]
  },
  {
   "cell_type": "code",
   "execution_count": 11,
   "id": "beb6b0b2",
   "metadata": {
    "deletable": false,
    "editable": false
   },
   "outputs": [
    {
     "data": {
      "text/html": [
       "<p><strong><pre style='display: inline;'>q1_5</pre></strong> passed! 🎉</p>"
      ],
      "text/plain": [
       "q1_5 results: All test cases passed!"
      ]
     },
     "execution_count": 11,
     "metadata": {},
     "output_type": "execute_result"
    }
   ],
   "source": [
    "grader.check(\"q1_5\")"
   ]
  },
  {
   "cell_type": "markdown",
   "id": "0b0fc765",
   "metadata": {
    "deletable": false,
    "editable": false
   },
   "source": [
    "**Question 1.6:** Create a new table, `prices`, that contains only the `date` and `price` columns from the `prices_raw_with_date` table."
   ]
  },
  {
   "cell_type": "code",
   "execution_count": 12,
   "id": "798dee49",
   "metadata": {
    "tags": []
   },
   "outputs": [
    {
     "data": {
      "text/html": [
       "<div>\n",
       "<style scoped>\n",
       "    .dataframe tbody tr th:only-of-type {\n",
       "        vertical-align: middle;\n",
       "    }\n",
       "\n",
       "    .dataframe tbody tr th {\n",
       "        vertical-align: top;\n",
       "    }\n",
       "\n",
       "    .dataframe thead th {\n",
       "        text-align: right;\n",
       "    }\n",
       "</style>\n",
       "<table border=\"1\" class=\"dataframe\">\n",
       "  <thead>\n",
       "    <tr style=\"text-align: right;\">\n",
       "      <th></th>\n",
       "      <th>date</th>\n",
       "      <th>price</th>\n",
       "    </tr>\n",
       "  </thead>\n",
       "  <tbody>\n",
       "    <tr>\n",
       "      <th>0</th>\n",
       "      <td>2003-01-01</td>\n",
       "      <td>100.52</td>\n",
       "    </tr>\n",
       "    <tr>\n",
       "      <th>1</th>\n",
       "      <td>2003-02-01</td>\n",
       "      <td>100.71</td>\n",
       "    </tr>\n",
       "    <tr>\n",
       "      <th>2</th>\n",
       "      <td>2003-03-01</td>\n",
       "      <td>100.95</td>\n",
       "    </tr>\n",
       "    <tr>\n",
       "      <th>3</th>\n",
       "      <td>2003-04-01</td>\n",
       "      <td>101.29</td>\n",
       "    </tr>\n",
       "    <tr>\n",
       "      <th>4</th>\n",
       "      <td>2003-05-01</td>\n",
       "      <td>101.38</td>\n",
       "    </tr>\n",
       "    <tr>\n",
       "      <th>...</th>\n",
       "      <td>...</td>\n",
       "      <td>...</td>\n",
       "    </tr>\n",
       "    <tr>\n",
       "      <th>103</th>\n",
       "      <td>2011-08-01</td>\n",
       "      <td>119.96</td>\n",
       "    </tr>\n",
       "    <tr>\n",
       "      <th>104</th>\n",
       "      <td>2011-09-01</td>\n",
       "      <td>120.06</td>\n",
       "    </tr>\n",
       "    <tr>\n",
       "      <th>105</th>\n",
       "      <td>2011-10-01</td>\n",
       "      <td>120.27</td>\n",
       "    </tr>\n",
       "    <tr>\n",
       "      <th>106</th>\n",
       "      <td>2011-11-01</td>\n",
       "      <td>120.39</td>\n",
       "    </tr>\n",
       "    <tr>\n",
       "      <th>107</th>\n",
       "      <td>2011-12-01</td>\n",
       "      <td>120.53</td>\n",
       "    </tr>\n",
       "  </tbody>\n",
       "</table>\n",
       "<p>108 rows × 2 columns</p>\n",
       "</div>"
      ],
      "text/plain": [
       "           date   price\n",
       "0    2003-01-01  100.52\n",
       "1    2003-02-01  100.71\n",
       "2    2003-03-01  100.95\n",
       "3    2003-04-01  101.29\n",
       "4    2003-05-01  101.38\n",
       "..          ...     ...\n",
       "103  2011-08-01  119.96\n",
       "104  2011-09-01  120.06\n",
       "105  2011-10-01  120.27\n",
       "106  2011-11-01  120.39\n",
       "107  2011-12-01  120.53\n",
       "\n",
       "[108 rows x 2 columns]"
      ]
     },
     "execution_count": 12,
     "metadata": {},
     "output_type": "execute_result"
    }
   ],
   "source": [
    "prices = prices_raw_with_date[['date','price']].copy()\n",
    "prices"
   ]
  },
  {
   "cell_type": "code",
   "execution_count": 13,
   "id": "606bc867",
   "metadata": {
    "deletable": false,
    "editable": false
   },
   "outputs": [
    {
     "data": {
      "text/html": [
       "<p><strong><pre style='display: inline;'>q1_6</pre></strong> passed! 🌈</p>"
      ],
      "text/plain": [
       "q1_6 results: All test cases passed!"
      ]
     },
     "execution_count": 13,
     "metadata": {},
     "output_type": "execute_result"
    }
   ],
   "source": [
    "grader.check(\"q1_6\")"
   ]
  },
  {
   "cell_type": "markdown",
   "id": "8decd6d2",
   "metadata": {
    "deletable": false,
    "editable": false
   },
   "source": [
    "**Question 1.7:** Now, we can filter the dataframe like we did in lecture. For example, we could get all rows where the price is between 105 and 115, exclusive. Put all of these rows in a new dataframe, `filtered_prices`."
   ]
  },
  {
   "cell_type": "code",
   "execution_count": 14,
   "id": "277eeed3",
   "metadata": {
    "tags": []
   },
   "outputs": [
    {
     "data": {
      "text/html": [
       "<div>\n",
       "<style scoped>\n",
       "    .dataframe tbody tr th:only-of-type {\n",
       "        vertical-align: middle;\n",
       "    }\n",
       "\n",
       "    .dataframe tbody tr th {\n",
       "        vertical-align: top;\n",
       "    }\n",
       "\n",
       "    .dataframe thead th {\n",
       "        text-align: right;\n",
       "    }\n",
       "</style>\n",
       "<table border=\"1\" class=\"dataframe\">\n",
       "  <thead>\n",
       "    <tr style=\"text-align: right;\">\n",
       "      <th></th>\n",
       "      <th>date</th>\n",
       "      <th>price</th>\n",
       "    </tr>\n",
       "  </thead>\n",
       "  <tbody>\n",
       "    <tr>\n",
       "      <th>19</th>\n",
       "      <td>2004-08-01</td>\n",
       "      <td>105.04</td>\n",
       "    </tr>\n",
       "    <tr>\n",
       "      <th>20</th>\n",
       "      <td>2004-09-01</td>\n",
       "      <td>105.20</td>\n",
       "    </tr>\n",
       "    <tr>\n",
       "      <th>21</th>\n",
       "      <td>2004-10-01</td>\n",
       "      <td>105.63</td>\n",
       "    </tr>\n",
       "    <tr>\n",
       "      <th>22</th>\n",
       "      <td>2004-11-01</td>\n",
       "      <td>105.81</td>\n",
       "    </tr>\n",
       "    <tr>\n",
       "      <th>23</th>\n",
       "      <td>2004-12-01</td>\n",
       "      <td>105.93</td>\n",
       "    </tr>\n",
       "  </tbody>\n",
       "</table>\n",
       "</div>"
      ],
      "text/plain": [
       "          date   price\n",
       "19  2004-08-01  105.04\n",
       "20  2004-09-01  105.20\n",
       "21  2004-10-01  105.63\n",
       "22  2004-11-01  105.81\n",
       "23  2004-12-01  105.93"
      ]
     },
     "execution_count": 14,
     "metadata": {},
     "output_type": "execute_result"
    }
   ],
   "source": [
    "filtered_prices = prices[(prices['price']>105) & (prices['price']<115)]\n",
    "filtered_prices.head()"
   ]
  },
  {
   "cell_type": "code",
   "execution_count": 15,
   "id": "540128ca",
   "metadata": {
    "deletable": false,
    "editable": false
   },
   "outputs": [
    {
     "data": {
      "text/html": [
       "<p><strong><pre style='display: inline;'>q1_7</pre></strong> passed! 🙌</p>"
      ],
      "text/plain": [
       "q1_7 results: All test cases passed!"
      ]
     },
     "execution_count": 15,
     "metadata": {},
     "output_type": "execute_result"
    }
   ],
   "source": [
    "grader.check(\"q1_7\")"
   ]
  },
  {
   "cell_type": "markdown",
   "id": "c4bca9bd-f0d9-4880-9039-053daf0efce0",
   "metadata": {
    "deletable": false,
    "editable": false
   },
   "source": [
    "**Question 1.8:** How many rows and columns are in `filtered_prices_subset`? Assign `dims` to a tuple containing the dimensions of `filtered_prices_subset`."
   ]
  },
  {
   "cell_type": "code",
   "execution_count": 16,
   "id": "ee4f7e05-cdc3-4123-9bae-23db00be2be0",
   "metadata": {
    "tags": []
   },
   "outputs": [
    {
     "data": {
      "text/plain": [
       "(43, 2)"
      ]
     },
     "execution_count": 16,
     "metadata": {},
     "output_type": "execute_result"
    }
   ],
   "source": [
    "dims = filtered_prices.shape\n",
    "dims\n",
    "\n"
   ]
  },
  {
   "cell_type": "code",
   "execution_count": 17,
   "id": "8cc0da12",
   "metadata": {
    "deletable": false,
    "editable": false
   },
   "outputs": [
    {
     "data": {
      "text/html": [
       "<p><strong><pre style='display: inline;'>q1_8</pre></strong> passed! 🌟</p>"
      ],
      "text/plain": [
       "q1_8 results: All test cases passed!"
      ]
     },
     "execution_count": 17,
     "metadata": {},
     "output_type": "execute_result"
    }
   ],
   "source": [
    "grader.check(\"q1_8\")"
   ]
  },
  {
   "cell_type": "markdown",
   "id": "6b624577",
   "metadata": {
    "deletable": false,
    "editable": false
   },
   "source": [
    "**Question 1.9:** Make a new dataframe that contains just the first 5 rows of `filtered_prices` and assign it to `filtered_prices_subset`. \n",
    "\n",
    "Hint: Should you use `.loc` or `.iloc` here?"
   ]
  },
  {
   "cell_type": "code",
   "execution_count": 18,
   "id": "7c5f51ba",
   "metadata": {
    "tags": []
   },
   "outputs": [
    {
     "data": {
      "text/html": [
       "<div>\n",
       "<style scoped>\n",
       "    .dataframe tbody tr th:only-of-type {\n",
       "        vertical-align: middle;\n",
       "    }\n",
       "\n",
       "    .dataframe tbody tr th {\n",
       "        vertical-align: top;\n",
       "    }\n",
       "\n",
       "    .dataframe thead th {\n",
       "        text-align: right;\n",
       "    }\n",
       "</style>\n",
       "<table border=\"1\" class=\"dataframe\">\n",
       "  <thead>\n",
       "    <tr style=\"text-align: right;\">\n",
       "      <th></th>\n",
       "      <th>date</th>\n",
       "      <th>price</th>\n",
       "    </tr>\n",
       "  </thead>\n",
       "  <tbody>\n",
       "    <tr>\n",
       "      <th>19</th>\n",
       "      <td>2004-08-01</td>\n",
       "      <td>105.04</td>\n",
       "    </tr>\n",
       "    <tr>\n",
       "      <th>20</th>\n",
       "      <td>2004-09-01</td>\n",
       "      <td>105.20</td>\n",
       "    </tr>\n",
       "    <tr>\n",
       "      <th>21</th>\n",
       "      <td>2004-10-01</td>\n",
       "      <td>105.63</td>\n",
       "    </tr>\n",
       "    <tr>\n",
       "      <th>22</th>\n",
       "      <td>2004-11-01</td>\n",
       "      <td>105.81</td>\n",
       "    </tr>\n",
       "    <tr>\n",
       "      <th>23</th>\n",
       "      <td>2004-12-01</td>\n",
       "      <td>105.93</td>\n",
       "    </tr>\n",
       "  </tbody>\n",
       "</table>\n",
       "</div>"
      ],
      "text/plain": [
       "          date   price\n",
       "19  2004-08-01  105.04\n",
       "20  2004-09-01  105.20\n",
       "21  2004-10-01  105.63\n",
       "22  2004-11-01  105.81\n",
       "23  2004-12-01  105.93"
      ]
     },
     "execution_count": 18,
     "metadata": {},
     "output_type": "execute_result"
    }
   ],
   "source": [
    "filtered_prices_subset = filtered_prices.iloc[:5].copy()\n",
    "filtered_prices_subset"
   ]
  },
  {
   "cell_type": "code",
   "execution_count": 19,
   "id": "3b69e986",
   "metadata": {
    "deletable": false,
    "editable": false
   },
   "outputs": [
    {
     "data": {
      "text/html": [
       "<p><strong><pre style='display: inline;'>q1_9</pre></strong> passed! 🙌</p>"
      ],
      "text/plain": [
       "q1_9 results: All test cases passed!"
      ]
     },
     "execution_count": 19,
     "metadata": {},
     "output_type": "execute_result"
    }
   ],
   "source": [
    "grader.check(\"q1_9\")"
   ]
  },
  {
   "cell_type": "markdown",
   "id": "4c4006fd",
   "metadata": {},
   "source": [
    "Now, let's visualize how the price changes over time. We're using [Matplotlib](https://matplotlib.org/) to produce this plot; you will learn more about this later in the course. "
   ]
  },
  {
   "cell_type": "code",
   "execution_count": 20,
   "id": "647cd797",
   "metadata": {},
   "outputs": [
    {
     "data": {
      "image/png": "[encoded data removed]",
      "text/plain": [
       "<Figure size 640x480 with 1 Axes>"
      ]
     },
     "metadata": {},
     "output_type": "display_data"
    }
   ],
   "source": [
    "plt.plot(filtered_prices['price']);"
   ]
  },
  {
   "cell_type": "markdown",
   "id": "0ba0fd4b",
   "metadata": {
    "deletable": false,
    "editable": false
   },
   "source": [
    "**Question 1.10:** The x-axis doesn't tell us much here. By reindexing the dataframe to the `date` column, we can make the x-axis more clear. Set the index of `filtered_prices` to be the `date` column and then replot the graph.\n",
    "\n",
    "P.S. We are only able to get a meaningful x-axis because the `date` column only contains Python datetime objects!"
   ]
  },
  {
   "cell_type": "code",
   "execution_count": 21,
   "id": "d2faae88",
   "metadata": {
    "tags": []
   },
   "outputs": [
    {
     "data": {
      "image/png": "[encoded data removed]",
      "text/plain": [
       "<Figure size 640x480 with 1 Axes>"
      ]
     },
     "metadata": {},
     "output_type": "display_data"
    }
   ],
   "source": [
    "reindexed_filtered_prices = filtered_prices.set_index('date')\n",
    "plt.plot(reindexed_filtered_prices['price']); # This line replots the graph\n",
    "\n"
   ]
  },
  {
   "cell_type": "code",
   "execution_count": 22,
   "id": "0290ed5f",
   "metadata": {
    "deletable": false,
    "editable": false,
    "scrolled": true
   },
   "outputs": [
    {
     "data": {
      "text/html": [
       "<p><strong><pre style='display: inline;'>q1_10</pre></strong> passed! ✨</p>"
      ],
      "text/plain": [
       "q1_10 results: All test cases passed!"
      ]
     },
     "execution_count": 22,
     "metadata": {},
     "output_type": "execute_result"
    }
   ],
   "source": [
    "grader.check(\"q1_10\")"
   ]
  },
  {
   "cell_type": "markdown",
   "id": "bc37f0a6-ccaa-4f4b-b0a8-04991ab16843",
   "metadata": {
    "deletable": false,
    "editable": false
   },
   "source": [
    "While looking at raw prices can be helpful, it is often more informative to adjust for inflation and consider the real price of the good over time. Let's say (hypothetically of course) you know that for each month in `reindexed_filtered_prices`, inflation grew by roughly 0.1%. \n",
    "\n",
    "**Question 1.11:** Create a dataframe `real_cost` which has the date as the index and 3 columns. The `price` column should be the same as in `reindexed_filtered_prices`, `inflation` should represent the [GDP deflator](https://www.khanacademy.org/economics-finance-domain/ap-macroeconomics/economic-iondicators-and-the-business-cycle/real-vs-nominal-gdp/v/gdp-deflator) (with the deflator for the first month being 100, the deflator for the second month being 100.1, etc.), and `real price` should be the inflation-adjusted price. You can see what the first 5 rows of the resulting DataFrame should look like by running the cell below.\n",
    "\n",
    "*Hint:* Consider using a list comprehension combined with a NumPy method for the `inflation` column.\n"
   ]
  },
  {
   "cell_type": "code",
   "execution_count": 23,
   "id": "79909edd-4ca0-4af1-a498-444690fef591",
   "metadata": {
    "deletable": false,
    "editable": false
   },
   "outputs": [
    {
     "data": {
      "text/html": [
       "<div>\n",
       "<style scoped>\n",
       "    .dataframe tbody tr th:only-of-type {\n",
       "        vertical-align: middle;\n",
       "    }\n",
       "\n",
       "    .dataframe tbody tr th {\n",
       "        vertical-align: top;\n",
       "    }\n",
       "\n",
       "    .dataframe thead th {\n",
       "        text-align: right;\n",
       "    }\n",
       "</style>\n",
       "<table border=\"1\" class=\"dataframe\">\n",
       "  <thead>\n",
       "    <tr style=\"text-align: right;\">\n",
       "      <th></th>\n",
       "      <th>price</th>\n",
       "      <th>inflation</th>\n",
       "      <th>real price</th>\n",
       "    </tr>\n",
       "    <tr>\n",
       "      <th>date</th>\n",
       "      <th></th>\n",
       "      <th></th>\n",
       "      <th></th>\n",
       "    </tr>\n",
       "  </thead>\n",
       "  <tbody>\n",
       "    <tr>\n",
       "      <th>2004-08-01</th>\n",
       "      <td>105.04</td>\n",
       "      <td>100.0000</td>\n",
       "      <td>1.050400</td>\n",
       "    </tr>\n",
       "    <tr>\n",
       "      <th>2004-09-01</th>\n",
       "      <td>105.20</td>\n",
       "      <td>100.1000</td>\n",
       "      <td>1.050949</td>\n",
       "    </tr>\n",
       "    <tr>\n",
       "      <th>2004-10-01</th>\n",
       "      <td>105.63</td>\n",
       "      <td>100.2001</td>\n",
       "      <td>1.054191</td>\n",
       "    </tr>\n",
       "    <tr>\n",
       "      <th>2004-11-01</th>\n",
       "      <td>105.81</td>\n",
       "      <td>100.3003</td>\n",
       "      <td>1.054932</td>\n",
       "    </tr>\n",
       "    <tr>\n",
       "      <th>2004-12-01</th>\n",
       "      <td>105.93</td>\n",
       "      <td>100.4006</td>\n",
       "      <td>1.055073</td>\n",
       "    </tr>\n",
       "  </tbody>\n",
       "</table>\n",
       "</div>"
      ],
      "text/plain": [
       "             price  inflation  real price\n",
       "date                                     \n",
       "2004-08-01  105.04   100.0000    1.050400\n",
       "2004-09-01  105.20   100.1000    1.050949\n",
       "2004-10-01  105.63   100.2001    1.054191\n",
       "2004-11-01  105.81   100.3003    1.054932\n",
       "2004-12-01  105.93   100.4006    1.055073"
      ]
     },
     "execution_count": 23,
     "metadata": {},
     "output_type": "execute_result"
    }
   ],
   "source": [
    "first_5_rows = {\n",
    "    'date': ['2004-08-01', '2004-09-01', '2004-10-01', '2004-11-01', '2004-12-01'],\n",
    "    'price': [105.04, 105.20, 105.63, 105.81, 105.93],\n",
    "    'inflation': [100.0000, 100.1000, 100.2001, 100.3003, 100.4006],\n",
    "    'real price': [1.050400, 1.050949, 1.054191, 1.054932, 1.055073]\n",
    "}\n",
    "\n",
    "pd.DataFrame(first_5_rows).set_index('date')"
   ]
  },
  {
   "cell_type": "code",
   "execution_count": 24,
   "id": "09374acc-cf32-4d2f-8b5e-9ff57861aa32",
   "metadata": {
    "tags": []
   },
   "outputs": [
    {
     "data": {
      "text/html": [
       "<div>\n",
       "<style scoped>\n",
       "    .dataframe tbody tr th:only-of-type {\n",
       "        vertical-align: middle;\n",
       "    }\n",
       "\n",
       "    .dataframe tbody tr th {\n",
       "        vertical-align: top;\n",
       "    }\n",
       "\n",
       "    .dataframe thead th {\n",
       "        text-align: right;\n",
       "    }\n",
       "</style>\n",
       "<table border=\"1\" class=\"dataframe\">\n",
       "  <thead>\n",
       "    <tr style=\"text-align: right;\">\n",
       "      <th></th>\n",
       "      <th>price</th>\n",
       "      <th>inflation</th>\n",
       "      <th>real price</th>\n",
       "    </tr>\n",
       "    <tr>\n",
       "      <th>date</th>\n",
       "      <th></th>\n",
       "      <th></th>\n",
       "      <th></th>\n",
       "    </tr>\n",
       "  </thead>\n",
       "  <tbody>\n",
       "    <tr>\n",
       "      <th>2004-08-01</th>\n",
       "      <td>105.04</td>\n",
       "      <td>100.000000</td>\n",
       "      <td>1.050400</td>\n",
       "    </tr>\n",
       "    <tr>\n",
       "      <th>2004-09-01</th>\n",
       "      <td>105.20</td>\n",
       "      <td>100.100000</td>\n",
       "      <td>1.050949</td>\n",
       "    </tr>\n",
       "    <tr>\n",
       "      <th>2004-10-01</th>\n",
       "      <td>105.63</td>\n",
       "      <td>100.200100</td>\n",
       "      <td>1.054191</td>\n",
       "    </tr>\n",
       "    <tr>\n",
       "      <th>2004-11-01</th>\n",
       "      <td>105.81</td>\n",
       "      <td>100.300300</td>\n",
       "      <td>1.054932</td>\n",
       "    </tr>\n",
       "    <tr>\n",
       "      <th>2004-12-01</th>\n",
       "      <td>105.93</td>\n",
       "      <td>100.400600</td>\n",
       "      <td>1.055073</td>\n",
       "    </tr>\n",
       "    <tr>\n",
       "      <th>2005-01-01</th>\n",
       "      <td>106.08</td>\n",
       "      <td>100.501001</td>\n",
       "      <td>1.055512</td>\n",
       "    </tr>\n",
       "    <tr>\n",
       "      <th>2005-02-01</th>\n",
       "      <td>106.43</td>\n",
       "      <td>100.601502</td>\n",
       "      <td>1.057936</td>\n",
       "    </tr>\n",
       "    <tr>\n",
       "      <th>2005-03-01</th>\n",
       "      <td>106.57</td>\n",
       "      <td>100.702104</td>\n",
       "      <td>1.058270</td>\n",
       "    </tr>\n",
       "    <tr>\n",
       "      <th>2005-04-01</th>\n",
       "      <td>106.72</td>\n",
       "      <td>100.802806</td>\n",
       "      <td>1.058701</td>\n",
       "    </tr>\n",
       "    <tr>\n",
       "      <th>2005-05-01</th>\n",
       "      <td>107.13</td>\n",
       "      <td>100.903608</td>\n",
       "      <td>1.061706</td>\n",
       "    </tr>\n",
       "    <tr>\n",
       "      <th>2005-06-01</th>\n",
       "      <td>107.25</td>\n",
       "      <td>101.004512</td>\n",
       "      <td>1.061834</td>\n",
       "    </tr>\n",
       "    <tr>\n",
       "      <th>2005-07-01</th>\n",
       "      <td>107.53</td>\n",
       "      <td>101.105517</td>\n",
       "      <td>1.063542</td>\n",
       "    </tr>\n",
       "    <tr>\n",
       "      <th>2005-08-01</th>\n",
       "      <td>107.72</td>\n",
       "      <td>101.206622</td>\n",
       "      <td>1.064357</td>\n",
       "    </tr>\n",
       "    <tr>\n",
       "      <th>2005-09-01</th>\n",
       "      <td>107.82</td>\n",
       "      <td>101.307829</td>\n",
       "      <td>1.064281</td>\n",
       "    </tr>\n",
       "    <tr>\n",
       "      <th>2005-10-01</th>\n",
       "      <td>107.87</td>\n",
       "      <td>101.409137</td>\n",
       "      <td>1.063711</td>\n",
       "    </tr>\n",
       "    <tr>\n",
       "      <th>2005-11-01</th>\n",
       "      <td>108.15</td>\n",
       "      <td>101.510546</td>\n",
       "      <td>1.065407</td>\n",
       "    </tr>\n",
       "    <tr>\n",
       "      <th>2005-12-01</th>\n",
       "      <td>108.27</td>\n",
       "      <td>101.612056</td>\n",
       "      <td>1.065523</td>\n",
       "    </tr>\n",
       "    <tr>\n",
       "      <th>2006-01-01</th>\n",
       "      <td>108.49</td>\n",
       "      <td>101.713668</td>\n",
       "      <td>1.066622</td>\n",
       "    </tr>\n",
       "    <tr>\n",
       "      <th>2006-02-01</th>\n",
       "      <td>108.76</td>\n",
       "      <td>101.815382</td>\n",
       "      <td>1.068208</td>\n",
       "    </tr>\n",
       "    <tr>\n",
       "      <th>2006-03-01</th>\n",
       "      <td>109.02</td>\n",
       "      <td>101.917197</td>\n",
       "      <td>1.069692</td>\n",
       "    </tr>\n",
       "    <tr>\n",
       "      <th>2006-04-01</th>\n",
       "      <td>109.28</td>\n",
       "      <td>102.019114</td>\n",
       "      <td>1.071172</td>\n",
       "    </tr>\n",
       "    <tr>\n",
       "      <th>2006-05-01</th>\n",
       "      <td>109.43</td>\n",
       "      <td>102.121134</td>\n",
       "      <td>1.071571</td>\n",
       "    </tr>\n",
       "    <tr>\n",
       "      <th>2006-06-01</th>\n",
       "      <td>109.69</td>\n",
       "      <td>102.223255</td>\n",
       "      <td>1.073044</td>\n",
       "    </tr>\n",
       "    <tr>\n",
       "      <th>2006-07-01</th>\n",
       "      <td>109.82</td>\n",
       "      <td>102.325478</td>\n",
       "      <td>1.073242</td>\n",
       "    </tr>\n",
       "    <tr>\n",
       "      <th>2006-08-01</th>\n",
       "      <td>110.18</td>\n",
       "      <td>102.427803</td>\n",
       "      <td>1.075684</td>\n",
       "    </tr>\n",
       "    <tr>\n",
       "      <th>2006-09-01</th>\n",
       "      <td>110.27</td>\n",
       "      <td>102.530231</td>\n",
       "      <td>1.075488</td>\n",
       "    </tr>\n",
       "    <tr>\n",
       "      <th>2006-10-01</th>\n",
       "      <td>110.64</td>\n",
       "      <td>102.632762</td>\n",
       "      <td>1.078018</td>\n",
       "    </tr>\n",
       "    <tr>\n",
       "      <th>2006-11-01</th>\n",
       "      <td>110.92</td>\n",
       "      <td>102.735394</td>\n",
       "      <td>1.079667</td>\n",
       "    </tr>\n",
       "    <tr>\n",
       "      <th>2006-12-01</th>\n",
       "      <td>111.06</td>\n",
       "      <td>102.838130</td>\n",
       "      <td>1.079950</td>\n",
       "    </tr>\n",
       "    <tr>\n",
       "      <th>2007-01-01</th>\n",
       "      <td>111.21</td>\n",
       "      <td>102.940968</td>\n",
       "      <td>1.080328</td>\n",
       "    </tr>\n",
       "    <tr>\n",
       "      <th>2007-02-01</th>\n",
       "      <td>111.66</td>\n",
       "      <td>103.043909</td>\n",
       "      <td>1.083616</td>\n",
       "    </tr>\n",
       "    <tr>\n",
       "      <th>2007-03-01</th>\n",
       "      <td>111.80</td>\n",
       "      <td>103.146953</td>\n",
       "      <td>1.083890</td>\n",
       "    </tr>\n",
       "    <tr>\n",
       "      <th>2007-04-01</th>\n",
       "      <td>112.12</td>\n",
       "      <td>103.250100</td>\n",
       "      <td>1.085907</td>\n",
       "    </tr>\n",
       "    <tr>\n",
       "      <th>2007-05-01</th>\n",
       "      <td>112.28</td>\n",
       "      <td>103.353350</td>\n",
       "      <td>1.086370</td>\n",
       "    </tr>\n",
       "    <tr>\n",
       "      <th>2007-06-01</th>\n",
       "      <td>112.67</td>\n",
       "      <td>103.456703</td>\n",
       "      <td>1.089055</td>\n",
       "    </tr>\n",
       "    <tr>\n",
       "      <th>2007-07-01</th>\n",
       "      <td>112.81</td>\n",
       "      <td>103.560160</td>\n",
       "      <td>1.089319</td>\n",
       "    </tr>\n",
       "    <tr>\n",
       "      <th>2007-08-01</th>\n",
       "      <td>113.10</td>\n",
       "      <td>103.663720</td>\n",
       "      <td>1.091028</td>\n",
       "    </tr>\n",
       "    <tr>\n",
       "      <th>2007-09-01</th>\n",
       "      <td>113.22</td>\n",
       "      <td>103.767384</td>\n",
       "      <td>1.091094</td>\n",
       "    </tr>\n",
       "    <tr>\n",
       "      <th>2007-10-01</th>\n",
       "      <td>113.35</td>\n",
       "      <td>103.871151</td>\n",
       "      <td>1.091256</td>\n",
       "    </tr>\n",
       "    <tr>\n",
       "      <th>2007-11-01</th>\n",
       "      <td>113.83</td>\n",
       "      <td>103.975022</td>\n",
       "      <td>1.094782</td>\n",
       "    </tr>\n",
       "    <tr>\n",
       "      <th>2007-12-01</th>\n",
       "      <td>114.02</td>\n",
       "      <td>104.078997</td>\n",
       "      <td>1.095514</td>\n",
       "    </tr>\n",
       "    <tr>\n",
       "      <th>2008-01-01</th>\n",
       "      <td>114.59</td>\n",
       "      <td>104.183076</td>\n",
       "      <td>1.099891</td>\n",
       "    </tr>\n",
       "    <tr>\n",
       "      <th>2008-02-01</th>\n",
       "      <td>114.74</td>\n",
       "      <td>104.287259</td>\n",
       "      <td>1.100230</td>\n",
       "    </tr>\n",
       "  </tbody>\n",
       "</table>\n",
       "</div>"
      ],
      "text/plain": [
       "             price   inflation  real price\n",
       "date                                      \n",
       "2004-08-01  105.04  100.000000    1.050400\n",
       "2004-09-01  105.20  100.100000    1.050949\n",
       "2004-10-01  105.63  100.200100    1.054191\n",
       "2004-11-01  105.81  100.300300    1.054932\n",
       "2004-12-01  105.93  100.400600    1.055073\n",
       "2005-01-01  106.08  100.501001    1.055512\n",
       "2005-02-01  106.43  100.601502    1.057936\n",
       "2005-03-01  106.57  100.702104    1.058270\n",
       "2005-04-01  106.72  100.802806    1.058701\n",
       "2005-05-01  107.13  100.903608    1.061706\n",
       "2005-06-01  107.25  101.004512    1.061834\n",
       "2005-07-01  107.53  101.105517    1.063542\n",
       "2005-08-01  107.72  101.206622    1.064357\n",
       "2005-09-01  107.82  101.307829    1.064281\n",
       "2005-10-01  107.87  101.409137    1.063711\n",
       "2005-11-01  108.15  101.510546    1.065407\n",
       "2005-12-01  108.27  101.612056    1.065523\n",
       "2006-01-01  108.49  101.713668    1.066622\n",
       "2006-02-01  108.76  101.815382    1.068208\n",
       "2006-03-01  109.02  101.917197    1.069692\n",
       "2006-04-01  109.28  102.019114    1.071172\n",
       "2006-05-01  109.43  102.121134    1.071571\n",
       "2006-06-01  109.69  102.223255    1.073044\n",
       "2006-07-01  109.82  102.325478    1.073242\n",
       "2006-08-01  110.18  102.427803    1.075684\n",
       "2006-09-01  110.27  102.530231    1.075488\n",
       "2006-10-01  110.64  102.632762    1.078018\n",
       "2006-11-01  110.92  102.735394    1.079667\n",
       "2006-12-01  111.06  102.838130    1.079950\n",
       "2007-01-01  111.21  102.940968    1.080328\n",
       "2007-02-01  111.66  103.043909    1.083616\n",
       "2007-03-01  111.80  103.146953    1.083890\n",
       "2007-04-01  112.12  103.250100    1.085907\n",
       "2007-05-01  112.28  103.353350    1.086370\n",
       "2007-06-01  112.67  103.456703    1.089055\n",
       "2007-07-01  112.81  103.560160    1.089319\n",
       "2007-08-01  113.10  103.663720    1.091028\n",
       "2007-09-01  113.22  103.767384    1.091094\n",
       "2007-10-01  113.35  103.871151    1.091256\n",
       "2007-11-01  113.83  103.975022    1.094782\n",
       "2007-12-01  114.02  104.078997    1.095514\n",
       "2008-01-01  114.59  104.183076    1.099891\n",
       "2008-02-01  114.74  104.287259    1.100230"
      ]
     },
     "execution_count": 24,
     "metadata": {},
     "output_type": "execute_result"
    }
   ],
   "source": [
    "real_cost = pd.DataFrame()\n",
    "real_cost['price'] = reindexed_filtered_prices['price'] #column in the new df for price\n",
    "    \n",
    "#column in the new df for inflation \n",
    "inflation = [(100 * (1.001**x)) for x in np.arange(0, 43)]\n",
    "real_cost['inflation'] = inflation\n",
    "\n",
    "#column for real price\n",
    "#real_price = price/inflation\n",
    "real_cost['real price'] = real_cost['price']/real_cost['inflation']\n",
    "\n",
    "real_cost\n"
   ]
  },
  {
   "cell_type": "code",
   "execution_count": 25,
   "id": "de13c412",
   "metadata": {
    "deletable": false,
    "editable": false
   },
   "outputs": [
    {
     "data": {
      "text/html": [
       "<p><strong><pre style='display: inline;'>q1_11</pre></strong> passed! 🌈</p>"
      ],
      "text/plain": [
       "q1_11 results: All test cases passed!"
      ]
     },
     "execution_count": 25,
     "metadata": {},
     "output_type": "execute_result"
    }
   ],
   "source": [
    "grader.check(\"q1_11\")"
   ]
  },
  {
   "cell_type": "markdown",
   "id": "187fdb9e-0454-43a3-9c61-a63ab5b650ef",
   "metadata": {
    "deletable": false,
    "editable": false
   },
   "source": [
    "<!-- BEGIN QUESTION -->\n",
    "\n",
    "**Question 1.12:** How do the real cost and nominal cost change over time?"
   ]
  },
  {
   "cell_type": "markdown",
   "id": "187c1ad3",
   "metadata": {},
   "source": [
    "Real cost, as opposed to nominal cost, is adjusted for inflation. Thus, over time, real cost moves slower than nominal cost change over time. Both nominal and real costs are increasing over time. "
   ]
  },
  {
   "cell_type": "markdown",
   "id": "cd64e0b9-9b21-4801-aa79-0950a25a9021",
   "metadata": {
    "deletable": false,
    "editable": false
   },
   "source": [
    "<!-- END QUESTION -->\n",
    "\n",
    "Let us now plot the real cost over time."
   ]
  },
  {
   "cell_type": "code",
   "execution_count": 26,
   "id": "074dd371-b965-4bf4-917d-e554469fafbc",
   "metadata": {},
   "outputs": [
    {
     "data": {
      "image/png": "[encoded data removed]",
      "text/plain": [
       "<Figure size 640x480 with 1 Axes>"
      ]
     },
     "metadata": {},
     "output_type": "display_data"
    }
   ],
   "source": [
    "plt.plot(real_cost['real price']);"
   ]
  },
  {
   "cell_type": "markdown",
   "id": "ed177b81-73e6-453d-9483-c7a7d7fd16a4",
   "metadata": {},
   "source": [
    "Going back to the dataframe `prices`, which dates had the most expensive prices? I would say 2008 had the most expensive prices because of inflation."
   ]
  },
  {
   "cell_type": "markdown",
   "id": "a9a8afd2-b363-4081-93af-3dbd9cf8297c",
   "metadata": {
    "deletable": false,
    "editable": false
   },
   "source": [
    "**Question 1.13:** Sort the dataframe `prices` by the `price` column, in descending order. Notice how we expect you to sort the dataframe itself, not assign the sorted dataframe to a new variable. You should be able to do this in one line of code."
   ]
  },
  {
   "cell_type": "code",
   "execution_count": 27,
   "id": "84139121-1d99-43dc-8fb9-2b4898e6b93d",
   "metadata": {
    "tags": []
   },
   "outputs": [],
   "source": [
    "#df_prices_sorted = prices.sort_values(by = 'price' , ascending = False)\n",
    "\n",
    "prices.sort_values(by='price', ascending=False, inplace = True)\n",
    "\n",
    "#print(prices)\n"
   ]
  },
  {
   "cell_type": "code",
   "execution_count": 28,
   "id": "694bb9b4",
   "metadata": {
    "deletable": false,
    "editable": false
   },
   "outputs": [
    {
     "data": {
      "text/html": [
       "<p><strong><pre style='display: inline;'>q1_13</pre></strong> passed! 🚀</p>"
      ],
      "text/plain": [
       "q1_13 results: All test cases passed!"
      ]
     },
     "execution_count": 28,
     "metadata": {},
     "output_type": "execute_result"
    }
   ],
   "source": [
    "grader.check(\"q1_13\")"
   ]
  },
  {
   "cell_type": "markdown",
   "id": "9a7264e3-086f-4f8b-b9b7-783591ee020c",
   "metadata": {
    "deletable": false,
    "editable": false
   },
   "source": [
    "**Question 1.14:** Just for fun, let us rename the columns of `prices` to have correct capitalization. `date` should become `Date` and `price` should become `Price`."
   ]
  },
  {
   "cell_type": "code",
   "execution_count": 29,
   "id": "bcef799a-b7de-4701-bcb9-4cf44f634186",
   "metadata": {
    "tags": []
   },
   "outputs": [],
   "source": [
    "prices.rename(columns={'date':'Date','price':'Price'},inplace=True)"
   ]
  },
  {
   "cell_type": "code",
   "execution_count": 30,
   "id": "4e197b6b",
   "metadata": {
    "deletable": false,
    "editable": false
   },
   "outputs": [
    {
     "data": {
      "text/html": [
       "<p><strong><pre style='display: inline;'>q1_14</pre></strong> passed! ✨</p>"
      ],
      "text/plain": [
       "q1_14 results: All test cases passed!"
      ]
     },
     "execution_count": 30,
     "metadata": {},
     "output_type": "execute_result"
    }
   ],
   "source": [
    "grader.check(\"q1_14\")"
   ]
  },
  {
   "cell_type": "markdown",
   "id": "6de87542",
   "metadata": {},
   "source": [
    "## Feedback"
   ]
  },
  {
   "cell_type": "markdown",
   "id": "01024d45",
   "metadata": {
    "deletable": false,
    "editable": false
   },
   "source": [
    "**Question 2:** Please fill out this short [feedback form](https://forms.gle/ymNkBHY5PcCq2YA79) to let us know your thoughts on this lab! We really appreciate your opinions and feedbacks! At the end of the Google form, you should see a codeword. Assign the codeword to the variable `codeword_feedback` below. "
   ]
  },
  {
   "cell_type": "code",
   "execution_count": 31,
   "id": "957d65c8",
   "metadata": {
    "tags": []
   },
   "outputs": [],
   "source": [
    "codeword_feedback = \"filter\""
   ]
  },
  {
   "cell_type": "code",
   "execution_count": 32,
   "id": "bccea69a",
   "metadata": {
    "deletable": false,
    "editable": false
   },
   "outputs": [
    {
     "data": {
      "text/html": [
       "<p><strong><pre style='display: inline;'>q2</pre></strong> passed! 🍀</p>"
      ],
      "text/plain": [
       "q2 results: All test cases passed!"
      ]
     },
     "execution_count": 32,
     "metadata": {},
     "output_type": "execute_result"
    }
   ],
   "source": [
    "grader.check(\"q2\")"
   ]
  },
  {
   "cell_type": "markdown",
   "id": "d2343cc1-6ac6-44ce-94c0-a2044c691825",
   "metadata": {},
   "source": [
    "## Pre-Semester Survey"
   ]
  },
  {
   "cell_type": "markdown",
   "id": "fe871fd9-c4c0-4647-a54e-81be9db85a8b",
   "metadata": {
    "deletable": false,
    "editable": false
   },
   "source": [
    "**Question 3:** Please fill out the [pre-semester survey](https://forms.gle/MoqPzyCj1Xj2qQvJ7) to help us get to know you better! Similar to the feedback, at the end of the Google form, you should see a codeword. Assign the codeword to the variable `codeword_survey` below. \n",
    "\n",
    "**Note:** This question is worth 3 points, we strongly recommend you do not skip it."
   ]
  },
  {
   "cell_type": "code",
   "execution_count": 33,
   "id": "c72a631a-335b-4230-aeed-ab198ae9db04",
   "metadata": {
    "tags": []
   },
   "outputs": [],
   "source": [
    "codeword_survey = \"excited\""
   ]
  },
  {
   "cell_type": "code",
   "execution_count": 34,
   "id": "cdf605dc",
   "metadata": {
    "deletable": false,
    "editable": false
   },
   "outputs": [
    {
     "data": {
      "text/html": [
       "<p><strong><pre style='display: inline;'>q3</pre></strong> passed! 🍀</p>"
      ],
      "text/plain": [
       "q3 results: All test cases passed!"
      ]
     },
     "execution_count": 34,
     "metadata": {},
     "output_type": "execute_result"
    }
   ],
   "source": [
    "grader.check(\"q3\")"
   ]
  },
  {
   "cell_type": "markdown",
   "id": "a563b2e9-7c35-47aa-8ee1-7ca179b42bc9",
   "metadata": {},
   "source": [
    "**Congratulations**, you are finished with lab 1 of econ 148!"
   ]
  },
  {
   "cell_type": "markdown",
   "id": "d3469d5d",
   "metadata": {
    "deletable": false,
    "editable": false
   },
   "source": [
    "## Submission\n",
    "\n",
    "Make sure you have run all cells in your notebook in order before running the cell below, so that all images/graphs appear in the output. The cell below will generate a zip file for you to submit. **Please save before exporting!**"
   ]
  },
  {
   "cell_type": "code",
   "execution_count": 35,
   "id": "2ff6cd08",
   "metadata": {
    "deletable": false,
    "editable": false
   },
   "outputs": [
    {
     "name": "stdout",
     "output_type": "stream",
     "text": [
      "Running your submission against local test cases...\n",
      "\n",
      "\n",
      "Your submission received the following results when run against available test cases:\n",
      "\n",
      "    q1_1 results: All test cases passed!\n",
      "\n",
      "    q1_4 results: All test cases passed!\n",
      "\n",
      "    q1_5 results: All test cases passed!\n",
      "\n",
      "    q1_6 results: All test cases passed!\n",
      "\n",
      "    q1_7 results: All test cases passed!\n",
      "\n",
      "    q1_8 results: All test cases passed!\n",
      "\n",
      "    q1_9 results: All test cases passed!\n",
      "\n",
      "    q1_10 results: All test cases passed!\n",
      "\n",
      "    q1_11 results: All test cases passed!\n",
      "\n",
      "    q1_13 results: All test cases passed!\n",
      "\n",
      "    q1_14 results: All test cases passed!\n",
      "\n",
      "    q2 results: All test cases passed!\n",
      "\n",
      "    q3 results: All test cases passed!\n"
     ]
    },
    {
     "data": {
      "text/html": [
       "\n",
       "                    <p>\n",
       "                        Your submission has been exported. Click\n",
       "                        <a href=\"lab01_2024_01_24T05_55_54_557271.zip\" download=\"lab01_2024_01_24T05_55_54_557271.zip\" target=\"_blank\">here</a> to download\n",
       "                        the zip file.\n",
       "                    </p>\n",
       "                "
      ],
      "text/plain": [
       "<IPython.core.display.HTML object>"
      ]
     },
     "metadata": {},
     "output_type": "display_data"
    }
   ],
   "source": [
    "# Save your notebook first, then run this cell to export your submission.\n",
    "grader.export(run_tests=True)"
   ]
  },
  {
   "cell_type": "markdown",
   "id": "39aac2c0",
   "metadata": {},
   "source": [
    " "
   ]
  }
 ],
 "metadata": {
  "kernelspec": {
   "display_name": "Python 3 (ipykernel)",
   "language": "python",
   "name": "python3"
  },
  "language_info": {
   "codemirror_mode": {
    "name": "ipython",
    "version": 3
   },
   "file_extension": ".py",
   "mimetype": "text/x-python",
   "name": "python",
   "nbconvert_exporter": "python",
   "pygments_lexer": "ipython3",
   "version": "3.11.0"
  },
  "otter": {
   "OK_FORMAT": true,
   "export_pdf_failure_message": "PDF did not generate, please submit screenshots for questions 1.2, 1.3 and 1.12",
   "require_no_pdf_confirmation": true,
   "tests": {
    "q1_1": {
     "name": "q1_1",
     "points": 2,
     "suites": [
      {
       "cases": [
        {
         "code": ">>> assert prices_raw.iloc[4]['price'] == 101.38\n",
         "hidden": false,
         "locked": false
        },
        {
         "code": ">>> assert prices_raw.shape == (108, 3)\n",
         "hidden": false,
         "locked": false
        }
       ],
       "scored": true,
       "setup": "",
       "teardown": "",
       "type": "doctest"
      }
     ]
    },
    "q1_10": {
     "name": "q1_10",
     "points": 1,
     "suites": [
      {
       "cases": [
        {
         "code": ">>> assert reindexed_filtered_prices.index[4].year == 2004 and reindexed_filtered_prices.index[4].month == 12 and (reindexed_filtered_prices.index[4].day == 1)\n",
         "hidden": false,
         "locked": false
        }
       ],
       "scored": true,
       "setup": "",
       "teardown": "",
       "type": "doctest"
      }
     ]
    },
    "q1_11": {
     "name": "q1_11",
     "points": 2,
     "suites": [
      {
       "cases": [
        {
         "code": ">>> assert np.isclose(real_cost['inflation'][2], 100.2001)\n",
         "hidden": false,
         "locked": false
        },
        {
         "code": ">>> assert np.isclose(real_cost['real price'][2], 1.0541905646800755)\n",
         "hidden": false,
         "locked": false
        }
       ],
       "scored": true,
       "setup": "",
       "teardown": "",
       "type": "doctest"
      }
     ]
    },
    "q1_13": {
     "name": "q1_13",
     "points": 1,
     "suites": [
      {
       "cases": [
        {
         "code": ">>> assert prices.iloc[2, 1] == 120.27\n",
         "hidden": false,
         "locked": false
        },
        {
         "code": ">>> assert prices.iloc[6, 1] == 119.62\n",
         "hidden": false,
         "locked": false
        }
       ],
       "scored": true,
       "setup": "",
       "teardown": "",
       "type": "doctest"
      }
     ]
    },
    "q1_14": {
     "name": "q1_14",
     "points": 1,
     "suites": [
      {
       "cases": [
        {
         "code": ">>> assert 'Date' in prices.columns\n",
         "hidden": false,
         "locked": false
        },
        {
         "code": ">>> assert 'Price' in prices.columns\n",
         "hidden": false,
         "locked": false
        }
       ],
       "scored": true,
       "setup": "",
       "teardown": "",
       "type": "doctest"
      }
     ]
    },
    "q1_4": {
     "name": "q1_4",
     "points": 2,
     "suites": [
      {
       "cases": [
        {
         "code": ">>> assert date_column[4].year == 2003 and date_column[4].month == 5 and (date_column[4].day == 1)\n",
         "hidden": false,
         "locked": false
        }
       ],
       "scored": true,
       "setup": "",
       "teardown": "",
       "type": "doctest"
      }
     ]
    },
    "q1_5": {
     "name": "q1_5",
     "points": 2,
     "suites": [
      {
       "cases": [
        {
         "code": ">>> assert prices_raw_with_date.iloc[4]['date'].year == 2003 and prices_raw_with_date.iloc[4]['date'].month == 5 and (prices_raw_with_date.iloc[4]['date'].day == 1)\n",
         "hidden": false,
         "locked": false
        }
       ],
       "scored": true,
       "setup": "",
       "teardown": "",
       "type": "doctest"
      }
     ]
    },
    "q1_6": {
     "name": "q1_6",
     "points": 2,
     "suites": [
      {
       "cases": [
        {
         "code": ">>> assert prices.iloc[:, 0][4].year == 2003 and prices.iloc[:, 0][4].month == 5 and (prices.iloc[:, 0][4].day == 1) and (prices.iloc[:, 1][4] == 101.38)\n",
         "hidden": false,
         "locked": false
        }
       ],
       "scored": true,
       "setup": "",
       "teardown": "",
       "type": "doctest"
      }
     ]
    },
    "q1_7": {
     "name": "q1_7",
     "points": 2,
     "suites": [
      {
       "cases": [
        {
         "code": ">>> assert filtered_prices.iloc[4].date.year == 2004 and filtered_prices.iloc[4].date.month == 12 and (filtered_prices.iloc[4].date.day == 1) and (filtered_prices.iloc[4].price == 105.93)\n",
         "hidden": false,
         "locked": false
        }
       ],
       "scored": true,
       "setup": "",
       "teardown": "",
       "type": "doctest"
      }
     ]
    },
    "q1_8": {
     "name": "q1_8",
     "points": null,
     "suites": [
      {
       "cases": [
        {
         "code": ">>> assert dims[0] == 43\n",
         "hidden": false,
         "locked": false
        },
        {
         "code": ">>> assert dims[1] == 2\n",
         "hidden": false,
         "locked": false
        },
        {
         "code": ">>> assert type(dims) == tuple\n",
         "hidden": false,
         "locked": false
        }
       ],
       "scored": true,
       "setup": "",
       "teardown": "",
       "type": "doctest"
      }
     ]
    },
    "q1_9": {
     "name": "q1_9",
     "points": null,
     "suites": [
      {
       "cases": [
        {
         "code": ">>> assert filtered_prices_subset.iloc[4].date.year == 2004 and filtered_prices_subset.iloc[4].date.month == 12 and (filtered_prices_subset.iloc[4].date.day == 1) and (filtered_prices_subset.iloc[4].price == 105.93)\n",
         "hidden": false,
         "locked": false
        }
       ],
       "scored": true,
       "setup": "",
       "teardown": "",
       "type": "doctest"
      }
     ]
    },
    "q2": {
     "name": "q2",
     "points": 1,
     "suites": [
      {
       "cases": [
        {
         "code": ">>> assert sum([ord(c) for c in codeword_feedback]) ^ 966984 == 967630\n",
         "hidden": false,
         "locked": false
        }
       ],
       "scored": true,
       "setup": "",
       "teardown": "",
       "type": "doctest"
      }
     ]
    },
    "q3": {
     "name": "q3",
     "points": 3,
     "suites": [
      {
       "cases": [
        {
         "code": ">>> assert sum([ord(c) for c in codeword_survey]) ^ 966984 == 967598\n",
         "hidden": false,
         "locked": false
        }
       ],
       "scored": true,
       "setup": "",
       "teardown": "",
       "type": "doctest"
      }
     ]
    }
   }
  },
  "toc": {
   "base_numbering": 1
  }
 },
 "nbformat": 4,
 "nbformat_minor": 5
}
